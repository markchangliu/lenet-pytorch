{
 "cells": [
  {
   "cell_type": "markdown",
   "id": "870ca05a",
   "metadata": {},
   "source": [
    "# 导入依赖"
   ]
  },
  {
   "cell_type": "code",
   "execution_count": 1,
   "id": "e26a235a",
   "metadata": {},
   "outputs": [],
   "source": [
    "import os\n",
    "import multiprocessing as mp\n",
    "\n",
    "import torch\n",
    "\n",
    "from models import LeNet5, loss_func_map, eval_func, init_weights\n",
    "from train import build_loader, build_sgd_optimizer, train_epochs\n",
    "from utils import mnist_cvs_to_imgfolder, decode_rbf_vectors_from_imgs, setup_logging"
   ]
  },
  {
   "cell_type": "markdown",
   "id": "f5aaa216",
   "metadata": {},
   "source": [
    "# 准备数据集"
   ]
  },
  {
   "cell_type": "code",
   "execution_count": null,
   "id": "bbd1e359",
   "metadata": {},
   "outputs": [],
   "source": [
    "csv_train_p = \"datasets/mnist_train_demo.csv\"\n",
    "csv_test_p = \"datasets/mnist_test_demo.csv\"\n",
    "export_train_dir = \"data/train\"\n",
    "export_test_dir = \"data/test\"\n",
    "\n",
    "# mnist_cvs_to_imgfolder(csv_train_p, export_train_dir)\n",
    "# mnist_cvs_to_imgfolder(csv_test_p, export_test_dir)"
   ]
  },
  {
   "cell_type": "markdown",
   "id": "7b65bf21",
   "metadata": {},
   "source": [
    "# 加载 RBF vector"
   ]
  },
  {
   "cell_type": "code",
   "execution_count": 3,
   "id": "3020ed11",
   "metadata": {},
   "outputs": [],
   "source": [
    "rbf_vector_dir = \"data/RBF_kernel\"\n",
    "\n",
    "rbf_vectors = decode_rbf_vectors_from_imgs(rbf_vector_dir)\n",
    "rbf_vectors = torch.as_tensor(rbf_vectors)"
   ]
  },
  {
   "cell_type": "markdown",
   "id": "2bb3f2c1",
   "metadata": {},
   "source": [
    "# 设定超参数"
   ]
  },
  {
   "cell_type": "code",
   "execution_count": null,
   "id": "d461771e",
   "metadata": {},
   "outputs": [],
   "source": [
    "# dataloader params\n",
    "batch_size = 4\n",
    "num_workers = mp.cpu_count() // 2\n",
    "\n",
    "# sgd params\n",
    "lr = 1e-4\n",
    "momentum = 0.9\n",
    "weight_decay = 1e-4\n",
    "\n",
    "# other params\n",
    "num_epoches = 100\n",
    "device = \"cuda:0\""
   ]
  },
  {
   "cell_type": "markdown",
   "id": "a2c57329",
   "metadata": {},
   "source": [
    "# 搭建 model、dataloader、optimizer、logger"
   ]
  },
  {
   "cell_type": "code",
   "execution_count": null,
   "id": "3108f03e",
   "metadata": {},
   "outputs": [],
   "source": [
    "model = LeNet5(rbf_vectors).to(device)\n",
    "model.apply(init_weights)\n",
    "\n",
    "train_data_roots = [\"data/train_demo\"]\n",
    "test_data_roots = [\"data/test_demo\"]\n",
    "\n",
    "train_loader, test_loader = build_loader(\n",
    "    train_data_roots,\n",
    "    test_data_roots,\n",
    "    {str(i): i for i in range(10)},\n",
    "    batch_size,\n",
    "    num_workers\n",
    ")\n",
    "\n",
    "optimizer = build_sgd_optimizer(\n",
    "    model.parameters(), \n",
    "    lr, \n",
    "    momentum = momentum, \n",
    "    weight_decay = weight_decay\n",
    ")\n",
    "\n",
    "workdir = \"runtimes\"\n",
    "log_p = os.path.join(workdir, \"train_log.txt\")\n",
    "logger = setup_logging(log_p)\n"
   ]
  },
  {
   "cell_type": "markdown",
   "id": "66374573",
   "metadata": {},
   "source": [
    "# 开始训练"
   ]
  },
  {
   "cell_type": "code",
   "execution_count": null,
   "id": "57434c9c",
   "metadata": {},
   "outputs": [],
   "source": [
    "save_ckpt_dir = os.path.join(workdir, \"ckpts\")\n",
    "print_iter_period = 30000\n",
    "save_eval_epoch_period = 4\n",
    "\n",
    "train_epochs(\n",
    "    model,\n",
    "    train_loader,\n",
    "    test_loader,\n",
    "    optimizer,\n",
    "    loss_func_map,\n",
    "    eval_func,\n",
    "    logger,\n",
    "    device,\n",
    "    save_ckpt_dir,\n",
    "    num_epoches,\n",
    "    print_iter_period,\n",
    "    save_eval_epoch_period\n",
    ")\n"
   ]
  }
 ],
 "metadata": {
  "kernelspec": {
   "display_name": "Python 3",
   "language": "python",
   "name": "python3"
  },
  "language_info": {
   "codemirror_mode": {
    "name": "ipython",
    "version": 3
   },
   "file_extension": ".py",
   "mimetype": "text/x-python",
   "name": "python",
   "nbconvert_exporter": "python",
   "pygments_lexer": "ipython3",
   "version": "3.11.9"
  }
 },
 "nbformat": 4,
 "nbformat_minor": 5
}
