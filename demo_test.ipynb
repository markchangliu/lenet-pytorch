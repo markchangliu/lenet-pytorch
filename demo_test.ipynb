{
 "cells": [
  {
   "cell_type": "markdown",
   "id": "2e569310",
   "metadata": {},
   "source": [
    "# 导入依赖"
   ]
  },
  {
   "cell_type": "code",
   "execution_count": 1,
   "id": "1bc9501b",
   "metadata": {},
   "outputs": [],
   "source": [
    "import os\n",
    "from typing import Union\n",
    "\n",
    "import cv2\n",
    "import numpy as np\n",
    "import torch\n",
    "\n",
    "from models import LeNet5\n",
    "from utils import decode_rbf_vectors_from_imgs\n",
    "from infer import infer_img"
   ]
  },
  {
   "cell_type": "markdown",
   "id": "ea71b925",
   "metadata": {},
   "source": [
    "# 加载模型"
   ]
  },
  {
   "cell_type": "code",
   "execution_count": 2,
   "id": "fddac8f6",
   "metadata": {},
   "outputs": [
    {
     "data": {
      "text/plain": [
       "<All keys matched successfully>"
      ]
     },
     "execution_count": 2,
     "metadata": {},
     "output_type": "execute_result"
    }
   ],
   "source": [
    "rbf_vectors = decode_rbf_vectors_from_imgs(\"data/RBF_kernel\")\n",
    "rbf_vectors = torch.as_tensor(rbf_vectors)\n",
    "model = LeNet5(rbf_vectors)\n",
    "\n",
    "ckpt_p = \"runtimes/ckpts/best.pth\"\n",
    "model_state_dict = torch.load(ckpt_p)[\"model\"]\n",
    "model.load_state_dict(model_state_dict)"
   ]
  },
  {
   "cell_type": "markdown",
   "id": "e2d35ffa",
   "metadata": {},
   "source": [
    "# 进行推理"
   ]
  },
  {
   "cell_type": "code",
   "execution_count": 3,
   "id": "5de35eda",
   "metadata": {},
   "outputs": [
    {
     "name": "stdout",
     "output_type": "stream",
     "text": [
      "predicted cat_id: 0\n"
     ]
    }
   ],
   "source": [
    "img_p = \"/data2/cliu/workspaces/lenet-pytorch/data/test_demo/0/img10.png\"\n",
    "device = \"cuda:0\"\n",
    "pred_cat_id = infer_img(img_p, model, device)\n",
    "print(f\"predicted cat_id: {pred_cat_id}\")"
   ]
  }
 ],
 "metadata": {
  "kernelspec": {
   "display_name": "Python 3",
   "language": "python",
   "name": "python3"
  },
  "language_info": {
   "codemirror_mode": {
    "name": "ipython",
    "version": 3
   },
   "file_extension": ".py",
   "mimetype": "text/x-python",
   "name": "python",
   "nbconvert_exporter": "python",
   "pygments_lexer": "ipython3",
   "version": "3.11.9"
  }
 },
 "nbformat": 4,
 "nbformat_minor": 5
}
